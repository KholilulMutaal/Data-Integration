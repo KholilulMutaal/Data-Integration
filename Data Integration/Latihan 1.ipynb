{
 "cells": [
  {
   "cell_type": "markdown",
   "metadata": {},
   "source": [
    "# Praktikum 1"
   ]
  },
  {
   "cell_type": "code",
   "execution_count": 1,
   "metadata": {},
   "outputs": [
    {
     "name": "stdout",
     "output_type": "stream",
     "text": [
      "<class 'int'>\n",
      "<class 'float'>\n",
      "<class 'str'>\n"
     ]
    }
   ],
   "source": [
    "#type of variable\n",
    "Age = 23 #integer\n",
    "Weight = 153.5 #float\n",
    "Gender = \"Female\" #string\n",
    "\n",
    "print (type(Age))\n",
    "print (type(Weight))\n",
    "print (type(Gender))"
   ]
  },
  {
   "cell_type": "code",
   "execution_count": 2,
   "metadata": {},
   "outputs": [
    {
     "name": "stdout",
     "output_type": "stream",
     "text": [
      "['apple', 'banana']\n",
      "['this is string', 10]\n",
      "[['apple', 'banana'], ['this is string', 10]]\n"
     ]
    }
   ],
   "source": [
    "#list\n",
    "fruits = [] #empety list\n",
    "fruits =[\"apple\", \"banana\"] #list with 2 elements\n",
    "another_list=[\"this is string\",10] #list with different type of elements\n",
    "\n",
    "print (fruits)\n",
    "print (another_list)\n",
    "\n",
    "combined=[fruits,another_list]\n",
    "print (combined)"
   ]
  },
  {
   "cell_type": "code",
   "execution_count": 3,
   "metadata": {},
   "outputs": [
    {
     "data": {
      "text/plain": [
       "['apple', 'banana']"
      ]
     },
     "execution_count": 3,
     "metadata": {},
     "output_type": "execute_result"
    }
   ],
   "source": [
    "fruits"
   ]
  },
  {
   "cell_type": "code",
   "execution_count": 5,
   "metadata": {},
   "outputs": [
    {
     "name": "stdout",
     "output_type": "stream",
     "text": [
      "['apple', 'banana', 'orange']\n",
      "['apple', 'banana', 'orange', 'mango']\n"
     ]
    }
   ],
   "source": [
    "#add elements to a list\n",
    "fruits = [\"apple\",\"banana\"]\n",
    "fruits.append(\"orange\") #append is the syntax to add\n",
    "print (fruits)\n",
    "\n",
    "fruits=fruits+[\"mango\"]\n",
    "print (fruits)"
   ]
  },
  {
   "cell_type": "code",
   "execution_count": 7,
   "metadata": {},
   "outputs": [
    {
     "name": "stdout",
     "output_type": "stream",
     "text": [
      "(0, 5)\n",
      "('red', 'green', 'blue')\n"
     ]
    }
   ],
   "source": [
    "#tuple\n",
    "#tuple is simlar to list but immutable once created\n",
    "#1. list bisa ditambahkan isinya, kalau tuple gak bisa\n",
    "#2. list bisa gabungan tipe datanya : string, numerik dll\n",
    "#3. list pakai kurung siku, tuple kurung biasa, set pakai .......\n",
    "coordinate =(0,5)\n",
    "colors = (\"red\",\"green\",\"blue\")\n",
    "print (coordinate)\n",
    "print (colors)"
   ]
  },
  {
   "cell_type": "code",
   "execution_count": 9,
   "metadata": {},
   "outputs": [],
   "source": [
    "### data integration\n",
    "import pandas as pd\n",
    "import numpy as np"
   ]
  },
  {
   "cell_type": "code",
   "execution_count": 12,
   "metadata": {},
   "outputs": [
    {
     "name": "stdout",
     "output_type": "stream",
     "text": [
      "  key   A   B   C   D\n",
      "0  K0  A0  B0  C0  D0\n",
      "1  K1  A1  B1  C1  D1\n",
      "2  K2  A2  B2  C2  D2\n",
      "3  K3  A3  B3  C3  D3\n"
     ]
    }
   ],
   "source": [
    "#merging\n",
    "#Dalam menggabungkan harus ada variabel yang sama\n",
    "left = pd.DataFrame({'key':['K0','K1','K2','K3'],\n",
    "                    'A':['A0','A1','A2','A3'],\n",
    "                    'B':['B0','B1','B2','B3']})\n",
    "right = pd.DataFrame({'key':['K0','K1','K2','K3'],\n",
    "                     'C':['C0','C1','C2','C3'],\n",
    "                     'D':['D0','D1','D2','D3']})\n",
    "result1 = pd.merge(left,right, on='key')\n",
    "print (result1)"
   ]
  },
  {
   "cell_type": "code",
   "execution_count": 13,
   "metadata": {},
   "outputs": [
    {
     "name": "stdout",
     "output_type": "stream",
     "text": [
      "  key   C   D   A   B\n",
      "0  K0  C0  D0  A0  B0\n",
      "1  K1  C1  D1  A1  B1\n",
      "2  K2  C2  D2  A2  B2\n",
      "3  K3  C3  D3  A3  B3\n"
     ]
    }
   ],
   "source": [
    "result2 = pd.merge(right,left, on='key')\n",
    "print (result2)"
   ]
  },
  {
   "cell_type": "code",
   "execution_count": 15,
   "metadata": {},
   "outputs": [
    {
     "name": "stdout",
     "output_type": "stream",
     "text": [
      "  key1 key2   A   B   C   D\n",
      "0   K0   K0  A0  B0  C0  D0\n",
      "1   K1   K0  A2  B2  C1  D1\n",
      "2   K1   K0  A2  B2  C2  D2\n"
     ]
    }
   ],
   "source": [
    "left = pd.DataFrame({'key1':['K0','K0','K1','K2'],\n",
    "                     'key2':['K0','K1','K0','K1'],\n",
    "                    'A':['A0','A1','A2','A3'],\n",
    "                    'B':['B0','B1','B2','B3']})\n",
    "right = pd.DataFrame({'key1':['K0','K1','K1','K2'],\n",
    "                      'key2':['K0','K0','K0','K0'],\n",
    "                     'C':['C0','C1','C2','C3'],\n",
    "                     'D':['D0','D1','D2','D3']})\n",
    "result3 = pd.merge(left,right, on=['key1','key2'])\n",
    "print (result3)"
   ]
  },
  {
   "cell_type": "code",
   "execution_count": null,
   "metadata": {},
   "outputs": [],
   "source": [
    "#marging data\n",
    "#movie1=pd.read_csv(\"alamat file1.csv\")\n",
    "#movie2=pd.read_csv(\"alamat file2.csv\")\n",
    "\n",
    "#movie_complete=pd.merge(movie1,movie2,on='movie_code')\n",
    "#movie_complete.head()\n"
   ]
  },
  {
   "cell_type": "code",
   "execution_count": null,
   "metadata": {},
   "outputs": [],
   "source": [
    "#export data\n",
    "#movie.to_csv(\"hasil_movie.csv\")"
   ]
  },
  {
   "cell_type": "code",
   "execution_count": 24,
   "metadata": {},
   "outputs": [
    {
     "name": "stdout",
     "output_type": "stream",
     "text": [
      "   NRP  IPK_x  IPS_x  IPK_y  IPS_y\n",
      "0    1    5.2    2.1    3.2    2.3\n",
      "1    2    6.1    3.2    5.1    3.4\n",
      "2    3    7.2    5.1    3.4    1.3\n"
     ]
    }
   ],
   "source": [
    "import pandas as pd\n",
    "import numpy as np\n",
    "nrp1=pd.read_csv(r\"D:\\Documents\\Kuliah\\SEMESTER 6\\DATA MINING\\Praktikum\\NRP1.csv\")\n",
    "nrp2=pd.read_csv(r\"D:\\Documents\\Kuliah\\SEMESTER 6\\DATA MINING\\Praktikum\\NRP2.csv\")\n",
    "\n",
    "nrp_complete=pd.merge(nrp1,nrp2,on='NRP')\n",
    "print (nrp_complete)"
   ]
  },
  {
   "cell_type": "code",
   "execution_count": null,
   "metadata": {},
   "outputs": [],
   "source": []
  },
  {
   "cell_type": "code",
   "execution_count": null,
   "metadata": {},
   "outputs": [],
   "source": []
  },
  {
   "cell_type": "code",
   "execution_count": null,
   "metadata": {},
   "outputs": [],
   "source": []
  },
  {
   "cell_type": "code",
   "execution_count": null,
   "metadata": {},
   "outputs": [],
   "source": []
  },
  {
   "cell_type": "code",
   "execution_count": null,
   "metadata": {},
   "outputs": [],
   "source": []
  },
  {
   "cell_type": "code",
   "execution_count": null,
   "metadata": {},
   "outputs": [],
   "source": []
  },
  {
   "cell_type": "code",
   "execution_count": null,
   "metadata": {},
   "outputs": [],
   "source": []
  }
 ],
 "metadata": {
  "kernelspec": {
   "display_name": "Python 3",
   "language": "python",
   "name": "python3"
  },
  "language_info": {
   "codemirror_mode": {
    "name": "ipython",
    "version": 3
   },
   "file_extension": ".py",
   "mimetype": "text/x-python",
   "name": "python",
   "nbconvert_exporter": "python",
   "pygments_lexer": "ipython3",
   "version": "3.7.1"
  }
 },
 "nbformat": 4,
 "nbformat_minor": 2
}
